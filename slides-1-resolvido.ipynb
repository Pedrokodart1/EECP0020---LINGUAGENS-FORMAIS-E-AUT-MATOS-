{
 "cells": [
  {
   "cell_type": "markdown",
   "id": "2846f64a",
   "metadata": {},
   "source": [
    "### Exercício 1 – Listagem de Elementos de um Conjunto"
   ]
  },
  {
   "cell_type": "code",
   "execution_count": null,
   "id": "b422e9d9",
   "metadata": {},
   "outputs": [],
   "source": [
    "V = {'a', 'e', 'i', 'o', 'u'}\n",
    "print(\"Os elementos do conjunto V são:\", V)\n"
   ]
  },
  {
   "cell_type": "markdown",
   "id": "7182b7dc",
   "metadata": {},
   "source": [
    "### Exercício 2 – Verificação de Elementos em um Conjunto"
   ]
  },
  {
   "cell_type": "code",
   "execution_count": 5,
   "id": "95d1d111",
   "metadata": {},
   "outputs": [
    {
     "name": "stdout",
     "output_type": "stream",
     "text": [
      "'a' está em V? True\n"
     ]
    }
   ],
   "source": [
    "V = {'a', 'e', 'i', 'o', 'u'}\n",
    "print(\"'a' está em V?\", 'a' in V)\n"
   ]
  },
  {
   "cell_type": "markdown",
   "id": "68741be4",
   "metadata": {},
   "source": [
    "### Exercício 3 – Conjunto com Números Pares entre 10 e 20"
   ]
  },
  {
   "cell_type": "code",
   "execution_count": 4,
   "id": "efbb1b53",
   "metadata": {},
   "outputs": [
    {
     "name": "stdout",
     "output_type": "stream",
     "text": [
      "Conjunto B com pares entre 10 e 20: {16, 18, 12, 14}\n"
     ]
    }
   ],
   "source": [
    "B = {x for x in range(11, 20) if x % 2 == 0}\n",
    "print(\"Conjunto B com pares entre 10 e 20:\", B)\n"
   ]
  },
  {
   "cell_type": "markdown",
   "id": "a10ed3b4",
   "metadata": {},
   "source": [
    "### Exercício 4 – Verificação de Subconjunto"
   ]
  },
  {
   "cell_type": "code",
   "execution_count": 6,
   "id": "76f9a837",
   "metadata": {},
   "outputs": [
    {
     "name": "stdout",
     "output_type": "stream",
     "text": [
      "C está contido em V? True\n"
     ]
    }
   ],
   "source": [
    "C = {'i', 'o', 'u'}\n",
    "print(\"C está contido em V?\", C.issubset(V))\n"
   ]
  },
  {
   "cell_type": "markdown",
   "id": "f8801e09",
   "metadata": {},
   "source": [
    "### Exercício 5 – Números de 1 a 10 divisíveis por 3"
   ]
  },
  {
   "cell_type": "code",
   "execution_count": 7,
   "id": "2e3add9a",
   "metadata": {},
   "outputs": [
    {
     "name": "stdout",
     "output_type": "stream",
     "text": [
      "D = {9, 3, 6}\n"
     ]
    }
   ],
   "source": [
    "D = {x for x in range(1, 11) if x % 3 == 0}\n",
    "print(\"D =\", D)\n"
   ]
  },
  {
   "cell_type": "markdown",
   "id": "c43aa336",
   "metadata": {},
   "source": [
    "### Exercício 6 – União de Conjuntos"
   ]
  },
  {
   "cell_type": "code",
   "execution_count": 8,
   "id": "ea37c023",
   "metadata": {},
   "outputs": [
    {
     "name": "stdout",
     "output_type": "stream",
     "text": [
      "A ∪ B = {1, 2, 3, 4, 5}\n"
     ]
    }
   ],
   "source": [
    "A = {1, 2, 3}\n",
    "B = {3, 4, 5}\n",
    "print(\"A ∪ B =\", A.union(B))\n"
   ]
  },
  {
   "cell_type": "markdown",
   "id": "6ec1b5a9",
   "metadata": {},
   "source": [
    "### Exercício 7 – Interseção de Conjuntos"
   ]
  },
  {
   "cell_type": "code",
   "execution_count": 10,
   "id": "9fdea7b8",
   "metadata": {},
   "outputs": [
    {
     "name": "stdout",
     "output_type": "stream",
     "text": [
      "A ∩ B = {3}\n"
     ]
    }
   ],
   "source": [
    "print(\"A ∩ B =\", A.intersection(B))\n"
   ]
  },
  {
   "cell_type": "markdown",
   "id": "2bc75e78",
   "metadata": {},
   "source": [
    "### Exercício 8 – Diferença entre Conjuntos"
   ]
  },
  {
   "cell_type": "code",
   "execution_count": 11,
   "id": "962afb36",
   "metadata": {},
   "outputs": [
    {
     "name": "stdout",
     "output_type": "stream",
     "text": [
      "A - B = {1, 2}\n"
     ]
    }
   ],
   "source": [
    "print(\"A - B =\", A.difference(B))\n"
   ]
  },
  {
   "cell_type": "markdown",
   "id": "a594371b",
   "metadata": {},
   "source": [
    "### Exercício 9 – Diferença Simétrica"
   ]
  },
  {
   "cell_type": "code",
   "execution_count": 12,
   "id": "b99abb2c",
   "metadata": {},
   "outputs": [
    {
     "name": "stdout",
     "output_type": "stream",
     "text": [
      "A Δ B = {1, 2, 4, 5}\n"
     ]
    }
   ],
   "source": [
    "print(\"A Δ B =\", A.symmetric_difference(B))\n"
   ]
  },
  {
   "cell_type": "markdown",
   "id": "3ddf3b0e",
   "metadata": {},
   "source": [
    "### Exercício 10 – Subconjunto e Superconjunto"
   ]
  },
  {
   "cell_type": "code",
   "execution_count": 13,
   "id": "88b6e8e2",
   "metadata": {},
   "outputs": [
    {
     "name": "stdout",
     "output_type": "stream",
     "text": [
      "A é subconjunto de B? True\n",
      "B é superconjunto de A? True\n"
     ]
    }
   ],
   "source": [
    "A = {1, 2, 3}\n",
    "B = {1, 2, 3, 4, 5}\n",
    "print(\"A é subconjunto de B?\", A.issubset(B))\n",
    "print(\"B é superconjunto de A?\", B.issuperset(A))\n"
   ]
  },
  {
   "cell_type": "markdown",
   "id": "4e35d462",
   "metadata": {},
   "source": [
    "### Exercício 11 – Números pares maiores que 10"
   ]
  },
  {
   "cell_type": "code",
   "execution_count": 14,
   "id": "fbdc6ebd",
   "metadata": {},
   "outputs": [
    {
     "name": "stdout",
     "output_type": "stream",
     "text": [
      "Pares > 10 e <= 100: {12, 14, 16, 18, 20, 22, 24, 26, 28, 30, 32, 34, 36, 38, 40, 42, 44, 46, 48, 50, 52, 54, 56, 58, 60, 62, 64, 66, 68, 70, 72, 74, 76, 78, 80, 82, 84, 86, 88, 90, 92, 94, 96, 98, 100}\n"
     ]
    }
   ],
   "source": [
    "B = {x for x in range(11, 101) if x % 2 == 0}\n",
    "print(\"Pares > 10 e <= 100:\", B)\n"
   ]
  },
  {
   "cell_type": "markdown",
   "id": "fc7a81b8",
   "metadata": {},
   "source": [
    "### Exercício 12 – Números primos menores que 20"
   ]
  },
  {
   "cell_type": "code",
   "execution_count": 16,
   "id": "2d65947d",
   "metadata": {},
   "outputs": [
    {
     "name": "stdout",
     "output_type": "stream",
     "text": [
      "Primos < 20: {2, 3, 5, 7, 11, 13, 17, 19}\n"
     ]
    }
   ],
   "source": [
    "def is_prime(n):\n",
    "    if n < 2: return False\n",
    "    for i in range(2, int(n**0.5) + 1):\n",
    "        if n % i == 0: return False\n",
    "    return True\n",
    "\n",
    "P = {x for x in range(2, 20) if is_prime(x)}\n",
    "print(\"Primos < 20:\", P)\n"
   ]
  },
  {
   "cell_type": "markdown",
   "id": "05a5ae66",
   "metadata": {},
   "source": [
    "### Exercício 13 – Ímpares divisíveis por 3 até 30"
   ]
  },
  {
   "cell_type": "code",
   "execution_count": 17,
   "id": "d7c2e3ad",
   "metadata": {},
   "outputs": [
    {
     "name": "stdout",
     "output_type": "stream",
     "text": [
      "Ímpares divisíveis por 3 até 30: {3, 9, 15, 21, 27}\n"
     ]
    }
   ],
   "source": [
    "I = {x for x in range(1, 31) if x % 2 == 1 and x % 3 == 0}\n",
    "print(\"Ímpares divisíveis por 3 até 30:\", I)\n"
   ]
  },
  {
   "cell_type": "markdown",
   "id": "f22ceb65",
   "metadata": {},
   "source": [
    "### Exercício 14 – Quadrados perfeitos menores que 100"
   ]
  },
  {
   "cell_type": "code",
   "execution_count": null,
   "id": "cad86746",
   "metadata": {},
   "outputs": [
    {
     "name": "stdout",
     "output_type": "stream",
     "text": [
      "Quadrados perfeitos < 100: {64, 1, 4, 36, 9, 16, 49, 81, 25}\n"
     ]
    }
   ],
   "source": [
    "Q = {x**2 for x in range(1, 10)}\n",
    "print(\"Quadrados perfeitos < 100:\", Q)\n"
   ]
  },
  {
   "cell_type": "markdown",
   "id": "dcc5660e",
   "metadata": {},
   "source": [
    "### Exercício 15 – Múltiplos de 5 entre 10 e 50"
   ]
  },
  {
   "cell_type": "code",
   "execution_count": 21,
   "id": "d21449ea",
   "metadata": {},
   "outputs": [
    {
     "name": "stdout",
     "output_type": "stream",
     "text": [
      "Múltiplos de 5 entre 10 e 50: {35, 40, 45, 15, 20, 25, 30}\n"
     ]
    }
   ],
   "source": [
    "M = {x for x in range(11, 50) if x % 5 == 0}\n",
    "print(\"Múltiplos de 5 entre 10 e 50:\", M)\n"
   ]
  },
  {
   "cell_type": "markdown",
   "id": "739cb45e",
   "metadata": {},
   "source": [
    "### Subconjunto próprio e não próprio"
   ]
  },
  {
   "cell_type": "code",
   "execution_count": null,
   "id": "2e6f89b6",
   "metadata": {},
   "outputs": [],
   "source": [
    "import matplotlib.pyplot as plt\n",
    "from matplotlib_venn import venn2\n",
    "\n",
    "A = {1, 2}\n",
    "B = {1, 2, 3}\n",
    "print(\"A é subconjunto de B:\", A.issubset(B))\n",
    "venn2([A, B], set_labels=(\"A\", \"B\"))\n",
    "plt.title(\"Cenário 1\")\n",
    "plt.show()\n",
    "\n",
    "C = {1, 2, 3}\n",
    "D = {1, 2, 3}\n",
    "print(\"C é subconjunto próprio de D:\", C < D)  \n",
    "venn2([C, D], set_labels=(\"C\", \"D\"))\n",
    "plt.title(\"Cenário 2\")\n",
    "plt.show()\n",
    "\n",
    "print(\"O diagrama pode mostrar '0' quando não há elementos únicos em um dos conjuntos.\")\n"
   ]
  }
 ],
 "metadata": {
  "kernelspec": {
   "display_name": "Python 3",
   "language": "python",
   "name": "python3"
  },
  "language_info": {
   "codemirror_mode": {
    "name": "ipython",
    "version": 3
   },
   "file_extension": ".py",
   "mimetype": "text/x-python",
   "name": "python",
   "nbconvert_exporter": "python",
   "pygments_lexer": "ipython3",
   "version": "3.8.8"
  }
 },
 "nbformat": 4,
 "nbformat_minor": 5
}
